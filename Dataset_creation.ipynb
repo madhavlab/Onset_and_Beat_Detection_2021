{
  "nbformat": 4,
  "nbformat_minor": 0,
  "metadata": {
    "colab": {
      "name": "Dataset_creation.ipynb",
      "provenance": [],
      "collapsed_sections": []
    },
    "kernelspec": {
      "name": "python3",
      "display_name": "Python 3"
    },
    "language_info": {
      "name": "python"
    }
  },
  "cells": [
    {
      "cell_type": "code",
      "metadata": {
        "colab": {
          "base_uri": "https://localhost:8080/"
        },
        "id": "vaL3q0WZnoL9",
        "outputId": "685fee56-7ea5-453b-dfaf-3949237b6e86"
      },
      "source": [
        "# load drive\n",
        "from google.colab import drive\n",
        "drive.mount('/content/gdrive')"
      ],
      "execution_count": null,
      "outputs": [
        {
          "output_type": "stream",
          "text": [
            "Mounted at /content/gdrive\n"
          ],
          "name": "stdout"
        }
      ]
    },
    {
      "cell_type": "code",
      "metadata": {
        "colab": {
          "base_uri": "https://localhost:8080/"
        },
        "id": "qw2cIKHipySU",
        "outputId": "728a0551-2a7f-49ea-d301-a6e3ebfe932a"
      },
      "source": [
        "!pip install pydub"
      ],
      "execution_count": null,
      "outputs": [
        {
          "output_type": "stream",
          "text": [
            "Collecting pydub\n",
            "  Downloading https://files.pythonhosted.org/packages/a6/53/d78dc063216e62fc55f6b2eebb447f6a4b0a59f55c8406376f76bf959b08/pydub-0.25.1-py2.py3-none-any.whl\n",
            "Installing collected packages: pydub\n",
            "Successfully installed pydub-0.25.1\n"
          ],
          "name": "stdout"
        }
      ]
    },
    {
      "cell_type": "code",
      "metadata": {
        "id": "klADmSTpfBCP"
      },
      "source": [
        "kimport pydub\n",
        "import librosa\n",
        "from pydub import AudioSegment\n",
        "\n",
        "import numpy as np\n",
        "import pandas as pd\n",
        "from pydub.playback import play\n",
        "\n",
        "import time\n",
        "import sys, pdb\n",
        "\n",
        "import csv\n",
        "from csv import writer\n",
        "\n",
        "import random\n",
        "\n",
        "dha_m=AudioSegment.from_wav('/content/gdrive/My Drive/strokes/dha_m (1).wav')\n",
        "ghe_hard=AudioSegment.from_wav('/content/gdrive/My Drive/strokes/ghe_hard (1).wav')\n",
        "ghe_soft=AudioSegment.from_wav('/content/gdrive/My Drive/strokes/ghe_soft (1).wav')\n",
        "khi=AudioSegment.from_wav('/content/gdrive/My Drive/strokes/khi (1).wav')\n",
        "na=AudioSegment.from_wav('/content/gdrive/My Drive/strokes/na (1).wav')\n",
        "ta=AudioSegment.from_wav('/content/gdrive/My Drive/strokes/ta (1).wav')\n",
        "re=AudioSegment.from_wav('/content/gdrive/My Drive/strokes/re (1).wav')\n",
        "te=AudioSegment.from_wav('/content/gdrive/My Drive/strokes/te (1).wav')\n",
        "pa=AudioSegment.from_wav('/content/gdrive/My Drive/strokes/na (1).wav')\n",
        "\n",
        "dict={}\n",
        "dict[dha_m]=0.07641723356009071\n",
        "dict[ghe_hard]=0.03891156462585034\n",
        "dict[ghe_soft]=0.028820861678004534\n",
        "dict[khi]=0.014331065759637189\n",
        "dict[na]=0.04793650793650794\n",
        "dict[ta]=0.035986394557823126\n",
        "dict[re]=0.030702947845804986\n",
        "dict[te]=0.03346938775510204\n",
        "dict[pa]=0.04793650793650794\n",
        "\n",
        "arr=[0,1,2,3,4,5,6,7]\n",
        "\n",
        "songs=[]\n",
        "samp=[dha_m,ghe_hard,ghe_soft,khi,na,te,re,pa]\n",
        "# for tempo in range(120,121):\n",
        "#     s=AudioSegment.silent(60./tempo*1000*8)\n",
        "#     strk=random.choices(samp)[0]\n",
        "#     # print(strk)\n",
        "#     # print(khi)\n",
        "#     k=s.overlay(strk)\n",
        "#     strk=random.choices(samp)[0]\n",
        "#     kk=k.overlay(strk,position = int(60./tempo*1000*1-1000*dict[strk]))\n",
        "#     strk=random.choices(samp)[0]\n",
        "#     kkn=kk.overlay(strk,position = int(60./tempo*1000*2)-1000*dict[strk])\n",
        "#     strk=random.choices(samp)[0]\n",
        "#     kknd=kkn.overlay(strk,position = int(60./tempo*1000*3)-1000*dict[strk])\n",
        "#     strk=random.choices(samp)[0]\n",
        "#     kkndg=kknd.overlay(strk,position = int(60./tempo*1000*4)-1000*dict[strk])\n",
        "#     strk=random.choices(samp)[0]\n",
        "#     kkndgd=kkndg.overlay(strk,position = int(60./tempo*1000*5)-1000*dict[strk])\n",
        "#     strk=random.choices(samp)[0]\n",
        "#     kkndgdg=kkndgd.overlay(strk,position = int(60./tempo*1000*6)-1000*dict[strk])\n",
        "#     strk=random.choices(samp)[0]\n",
        "#     kkndgdgd=kkndgdg.overlay(strk,position = int(60./tempo*1000*7)-1000*dict[strk])\n",
        "#     result = [x * (60/tempo) for x in arr]\n",
        "\n",
        "\n",
        "\n",
        "\n",
        "\n",
        "   \n",
        "#     nam=\"/content/gdrive/My Drive/randomsample/audio/audio_\"+str(tempo)+\"bpm.wav\"\n",
        "#     nam2=\"/content/gdrive/My Drive/randomsample/annotations/audio_\"+str(tempo)+\"bpm.txt\"\n",
        "    \n",
        "#     f1=open(nam2,\"w+\")\n",
        "#     for item in result:\n",
        "#        f1.write(\"%s\\n\" % item)\n",
        "#     f1.close()\n",
        "#     kkndgdgd.export(out_f = nam, format = \"wav\")\n",
        "\n",
        "    \n"
      ],
      "execution_count": null,
      "outputs": []
    },
    {
      "cell_type": "code",
      "metadata": {
        "id": "uHuzxZC5hqRL"
      },
      "source": [
        "import pydub\n",
        "import librosa\n",
        "from pydub import AudioSegment\n",
        "\n",
        "import numpy as np\n",
        "import pandas as pd\n",
        "from pydub.playback import play\n",
        "\n",
        "import time\n",
        "import sys, pdb\n",
        "\n",
        "import csv\n",
        "from csv import writer\n",
        "\n",
        "import random\n",
        "\n",
        "#tin=AudioSegment.from_wav('tin.wav')\n",
        "#dha=AudioSegment.from_wav('dha.wav')\n",
        "dha_m=AudioSegment.from_wav('/content/gdrive/My Drive/strokes/dha_m (1).wav')\n",
        "ghe_hard=AudioSegment.from_wav('/content/gdrive/My Drive/strokes/ghe_hard (1).wav')\n",
        "ghe_soft=AudioSegment.from_wav('/content/gdrive/My Drive/strokes/ghe_soft (1).wav')\n",
        "khi=AudioSegment.from_wav('/content/gdrive/My Drive/strokes/khi (1).wav')\n",
        "na=AudioSegment.from_wav('/content/gdrive/My Drive/strokes/na (1).wav')\n",
        "ta=AudioSegment.from_wav('/content/gdrive/My Drive/strokes/ta (1).wav')\n",
        "re=AudioSegment.from_wav('/content/gdrive/My Drive/strokes/re (1).wav')\n",
        "te=AudioSegment.from_wav('/content/gdrive/My Drive/strokes/te (1).wav')\n",
        "pa=AudioSegment.from_wav('/content/gdrive/My Drive/strokes/na (1).wav')\n",
        "\n",
        "dict={}\n",
        "dict[dha_m]=0.07641723356009071\n",
        "dict[ghe_hard]=0.03891156462585034\n",
        "dict[ghe_soft]=0.028820861678004534\n",
        "dict[khi]=0.014331065759637189\n",
        "dict[na]=0.04793650793650794\n",
        "dict[ta]=0.035986394557823126\n",
        "dict[re]=0.030702947845804986\n",
        "dict[te]=0.03346938775510204\n",
        "dict[pa]=0.04793650793650794\n",
        "\n",
        "arr=[0,1.5,2,3,4,5,6,7,8,11,12,13,13.5,14,14.5,15]\n",
        "\n",
        "songs=[]\n",
        "\n",
        "for tempo in range(60,301):\n",
        "    s=AudioSegment.silent(60./tempo*1000*16)\n",
        "    k=s.overlay(khi)\n",
        "    kk=k.overlay(khi,position = int(60./tempo*1000*1.5-1000*dict[khi]))\n",
        "    kkn=kk.overlay(na,position = int(60./tempo*1000*2)-1000*dict[na])\n",
        "    kknd=kkn.overlay(dha_m,position = int(60./tempo*1000*3)-1000*dict[dha_m])\n",
        "    kkndg=kknd.overlay(ghe_soft,position = int(60./tempo*1000*4)-1000*dict[ghe_soft])\n",
        "    kkndgd=kkndg.overlay(dha_m,position = int(60./tempo*1000*5)-1000*dict[dha_m])\n",
        "    kkndgdg=kkndgd.overlay(ghe_soft,position = int(60./tempo*1000*6)-1000*dict[ghe_soft])\n",
        "    kkndgdgd=kkndgdg.overlay(dha_m,position = int(60./tempo*1000*7)-1000*dict[dha_m])\n",
        "    kkndgdgdg=kkndgdgd.overlay(ghe_hard,position = int(60./tempo*1000*8)-1000*dict[ghe_hard])\n",
        "    kkndgdgdgn=kkndgdgdg.overlay(na,position = int(60./tempo*1000*11)-1000*dict[na])\n",
        "    kkndgdgdgnt=kkndgdgdgn.overlay(te,position = int(60./tempo*1000*12)-1000*dict[te])\n",
        "    kkndgdgdgntt=kkndgdgdgnt.overlay(te,position = int(60./tempo*1000*13)-1000*dict[te])\n",
        "    kkndgdgdgnttr=kkndgdgdgntt.overlay(re,position = int(60./tempo*1000*13.5)-1000*dict[re])\n",
        "    kkndgdgdgnttrt=kkndgdgdgnttr.overlay(te,position = int(60./tempo*1000*14)-1000*dict[te])\n",
        "    kkndgdgdgnttrtr=kkndgdgdgnttrt.overlay(re,position = int(60./tempo*1000*14.5)-1000*dict[re])\n",
        "    kkndgdgdgnttrtrn=kkndgdgdgnttrtr.overlay(na,position = int(60./tempo*1000*15)-1000*dict[na])\n",
        "    result = [x * (60/tempo) for x in arr]\n",
        "\n",
        "    \n",
        "\n",
        "\n",
        "\n",
        "\n",
        "    #tin_tin_dha_file=kk.overlay(dha_m,position = int(60./tempo*1000*2))\n",
        "    nam=\"/content/gdrive/My Drive/randomsample/audio/mridanga16_\"+str(tempo)+\"bpm.wav\"\n",
        "    nam2=\"/content/gdrive/My Drive/randomsample/annotations/mridanga16_\"+str(tempo)+\"bpm.txt\"\n",
        "    \n",
        "    f1=open(nam2,\"w+\")\n",
        "    for item in result:\n",
        "       f1.write(\"%s\\n\" % item)\n",
        "    f1.close()\n",
        "    kkndgdgdgnttrtrn.export(out_f = nam, format = \"wav\")\n",
        "\n",
        "\n",
        "\n",
        "\n"
      ],
      "execution_count": null,
      "outputs": []
    }
  ]
}